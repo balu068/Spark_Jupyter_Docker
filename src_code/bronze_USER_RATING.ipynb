{
 "cells": [
  {
   "cell_type": "code",
   "execution_count": null,
   "id": "91f24323-cac7-4a05-bd5f-fb5a7136cd8d",
   "metadata": {},
   "outputs": [],
   "source": [
    "# Import the necessary modules\n",
    "from pyspark.sql.functions import *\n",
    "from ultis import *\n",
    "from datetime import datetime\n",
    "from decouple import config\n",
    "\n",
    "spark = create_spark()"
   ]
  },
  {
   "cell_type": "code",
   "execution_count": null,
   "id": "d11ab181-92ea-4edc-841c-9748d890b5af",
   "metadata": {},
   "outputs": [],
   "source": [
    "from decouple import AutoConfig\n",
    "config = AutoConfig(search_path='./')\n",
    "postgresUser = config('postgresUser')\n",
    "postgresPW = config('postgresPassword')\n",
    "postgresHost = config('postgresHost')\n",
    "postgresPort = config('postgresPort')"
   ]
  },
  {
   "cell_type": "code",
   "execution_count": null,
   "id": "76c9bd5d-8175-48df-9c0f-66db0fb5a9f2",
   "metadata": {},
   "outputs": [],
   "source": [
    "database = 'postgres'\n",
    "table = 'public.user_rating'\n",
    "\n",
    "df = (spark.read.format(\"jdbc\")\n",
    "      .option(\"url\", f\"jdbc:postgresql://{postgresHost}:{postgresPort}/{database}\")\n",
    "      .option(\"driver\", \"org.postgresql.Driver\")\n",
    "      .option(\"user\", postgresUser)\n",
    "      .option(\"password\", postgresPW)\n",
    "      .option(\"dbtable\", table)\n",
    "      .load())"
   ]
  },
  {
   "cell_type": "code",
   "execution_count": null,
   "id": "b60103a9-bb04-4878-aecc-1fa335e104aa",
   "metadata": {},
   "outputs": [],
   "source": [
    "df.write.format('delta').mode('overwrite').save('s3a://bronze/USER_RATING')"
   ]
  }
 ],
 "metadata": {
  "kernelspec": {
   "display_name": "Python 3 (ipykernel)",
   "language": "python",
   "name": "python3"
  },
  "language_info": {
   "codemirror_mode": {
    "name": "ipython",
    "version": 3
   },
   "file_extension": ".py",
   "mimetype": "text/x-python",
   "name": "python",
   "nbconvert_exporter": "python",
   "pygments_lexer": "ipython3",
   "version": "3.9.17"
  }
 },
 "nbformat": 4,
 "nbformat_minor": 5
}
