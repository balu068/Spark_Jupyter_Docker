{
 "cells": [
  {
   "cell_type": "code",
   "execution_count": null,
   "id": "91f24323-cac7-4a05-bd5f-fb5a7136cd8d",
   "metadata": {
    "scrolled": true
   },
   "outputs": [],
   "source": [
    "# Import the necessary modules\n",
    "from pyspark.sql.functions import *\n",
    "from ultis import *\n",
    "from datetime import datetime\n",
    "from decouple import config\n",
    "\n",
    "spark = create_spark()"
   ]
  },
  {
   "cell_type": "code",
   "execution_count": null,
   "id": "fdd3fe4e-cf14-40e8-8103-32a0da90202f",
   "metadata": {},
   "outputs": [],
   "source": [
    "spark.sql('''\n",
    "SELECT\n",
    "    A.CASE_ID,\n",
    "    B.USER_ID,\n",
    "    A.COMMENT,\n",
    "    A.CASE_RATING,\n",
    "    C.CASE_CATEGORY_ID,\n",
    "    FROM_UTC_TIMESTAMP(A.CASE_CREATED_AT, 'GMT+7') AS CREATED_AT,\n",
    "    FROM_UTC_TIMESTAMP(NOW(), 'GMT+7') AS LAST_EXECUTED_AT\n",
    "FROM delta.`s3a://bronze/USER_RATING` A\n",
    "LEFT JOIN delta.`s3a://silver/USER_DIM` B ON A.USER_ID = B.USER_ID\n",
    "LEFT JOIN delta.`s3a://silver/CASE_CATEGORY_DIM` C ON C.CASE_CATEGORY_ID = MD5(CONCAT(A.CASE_CATEGORY_1, A.CASE_CATEGORY_2))\n",
    "''').write.format('delta').mode('overwrite').save('s3a://silver/USER_RATING_FACT')"
   ]
  },
  {
   "cell_type": "code",
   "execution_count": null,
   "id": "b5ccdbbe-dd04-448d-a344-c450dc55f332",
   "metadata": {},
   "outputs": [],
   "source": [
    "spark.stop()"
   ]
  }
 ],
 "metadata": {
  "kernelspec": {
   "display_name": "Python 3 (ipykernel)",
   "language": "python",
   "name": "python3"
  },
  "language_info": {
   "codemirror_mode": {
    "name": "ipython",
    "version": 3
   },
   "file_extension": ".py",
   "mimetype": "text/x-python",
   "name": "python",
   "nbconvert_exporter": "python",
   "pygments_lexer": "ipython3",
   "version": "3.9.17"
  }
 },
 "nbformat": 4,
 "nbformat_minor": 5
}
