{
 "cells": [
  {
   "cell_type": "code",
   "execution_count": null,
   "id": "91f24323-cac7-4a05-bd5f-fb5a7136cd8d",
   "metadata": {},
   "outputs": [],
   "source": [
    "# Import the necessary modules\n",
    "from pyspark.sql.functions import *\n",
    "from ultis import *\n",
    "from datetime import datetime\n",
    "from decouple import config\n",
    "\n",
    "spark = create_spark()"
   ]
  },
  {
   "cell_type": "code",
   "execution_count": null,
   "id": "fdd3fe4e-cf14-40e8-8103-32a0da90202f",
   "metadata": {},
   "outputs": [],
   "source": [
    "spark.sql('''\n",
    "SELECT\n",
    "    A.D,\n",
    "    SUM(COUNT(DISTINCT B.USER_ID)) OVER (ORDER BY A.DATE RANGE BETWEEN 7 PRECEDING AND CURRENT ROW) AS USER_7D,\n",
    "    SUM(COUNT(DISTINCT B.USER_ID)) OVER (ORDER BY A.DATE RANGE BETWEEN 28 PRECEDING AND CURRENT ROW) AS USER_28D,\n",
    "    FROM_UTC_TIMESTAMP(NOW(), 'GMT+7') AS LAST_EXECUTED_TIME\n",
    "FROM delta.`s3a://silver/CALENDAR_DIM` A \n",
    "LEFT JOIN delta.`s3a://silver/USER_RATING_FACT` B ON A.DATE = TO_DATE(B.CREATED_AT)\n",
    "GROUP BY A.DATE\n",
    "ORDER BY A.DATE\n",
    "''').write.format('delta').mode('overwrite').save('s3a://gold/USER_RATING_7D_28D')"
   ]
  },
  {
   "cell_type": "code",
   "execution_count": null,
   "id": "b5ccdbbe-dd04-448d-a344-c450dc55f332",
   "metadata": {},
   "outputs": [],
   "source": [
    "spark.stop()"
   ]
  }
 ],
 "metadata": {
  "kernelspec": {
   "display_name": "Python 3 (ipykernel)",
   "language": "python",
   "name": "python3"
  },
  "language_info": {
   "codemirror_mode": {
    "name": "ipython",
    "version": 3
   },
   "file_extension": ".py",
   "mimetype": "text/x-python",
   "name": "python",
   "nbconvert_exporter": "python",
   "pygments_lexer": "ipython3",
   "version": "3.9.17"
  }
 },
 "nbformat": 4,
 "nbformat_minor": 5
}
