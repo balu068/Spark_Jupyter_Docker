{
 "cells": [
  {
   "cell_type": "code",
   "execution_count": null,
   "id": "91f24323-cac7-4a05-bd5f-fb5a7136cd8d",
   "metadata": {},
   "outputs": [],
   "source": [
    "# Import the necessary modules\n",
    "from pyspark.sql.functions import *\n",
    "from ultis import *\n",
    "from datetime import datetime\n",
    "from decouple import config\n",
    "\n",
    "spark = create_spark()"
   ]
  },
  {
   "cell_type": "code",
   "execution_count": null,
   "id": "fdd3fe4e-cf14-40e8-8103-32a0da90202f",
   "metadata": {},
   "outputs": [],
   "source": [
    "spark.sql('''\n",
    "SELECT\n",
    "    A.DATE,\n",
    "    COALESCE(B.PRODUCT, 0) AS PRODUCT,\n",
    "    COALESCE(B.FACILITY, 0) AS FACILITY,\n",
    "    COALESCE(B.SERVICE, 0) AS SERVICE,\n",
    "    FROM_UTC_TIMESTAMP(NOW(), 'GMT+7') AS LAST_EXECUTED_TIME\n",
    "FROM delta.`s3a://silver/CALENDAR_DIM` A\n",
    "LEFT JOIN ((\n",
    "SELECT\n",
    "    TO_DATE(FROM_UTC_TIMESTAMP(A.CREATED_AT, 'GMT+7')) AS DATE,\n",
    "    COUNT(*) AS TICKET_AMOUNT,\n",
    "    B.CASE_CATEGORY_1_NAME\n",
    "FROM delta.`s3a://silver/USER_RATING_FACT` A\n",
    "LEFT JOIN delta.`s3a://silver/CASE_CATEGORY_DIM` B ON A.CASE_CATEGORY_ID = B.CASE_CATEGORY_ID\n",
    "GROUP BY TO_DATE(FROM_UTC_TIMESTAMP(A.CREATED_AT, 'GMT+7')), CASE_CATEGORY_1_NAME\n",
    ")\n",
    "PIVOT (\n",
    "SUM(TICKET_AMOUNT) FOR CASE_CATEGORY_1_NAME IN (\n",
    "'Product' PRODUCT, 'Facility' FACILITY, 'Service' SERVICE\n",
    ")\n",
    ")) B ON A.DATE = B.DATE\n",
    "''').write.format('delta').mode('overwrite').save('s3a://gold/USER_RATING_CATEGORY')"
   ]
  },
  {
   "cell_type": "code",
   "execution_count": null,
   "id": "b5ccdbbe-dd04-448d-a344-c450dc55f332",
   "metadata": {},
   "outputs": [],
   "source": [
    "spark.stop()"
   ]
  }
 ],
 "metadata": {
  "kernelspec": {
   "display_name": "Python 3 (ipykernel)",
   "language": "python",
   "name": "python3"
  },
  "language_info": {
   "codemirror_mode": {
    "name": "ipython",
    "version": 3
   },
   "file_extension": ".py",
   "mimetype": "text/x-python",
   "name": "python",
   "nbconvert_exporter": "python",
   "pygments_lexer": "ipython3",
   "version": "3.9.17"
  }
 },
 "nbformat": 4,
 "nbformat_minor": 5
}
