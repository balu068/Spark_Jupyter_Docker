{
 "cells": [
  {
   "cell_type": "code",
   "execution_count": 15,
   "id": "91f24323-cac7-4a05-bd5f-fb5a7136cd8d",
   "metadata": {},
   "outputs": [],
   "source": [
    "# Import the necessary modules\n",
    "from pyspark.sql.functions import *\n",
    "from ultis import *\n",
    "from datetime import datetime\n",
    "from decouple import config\n",
    "\n",
    "spark = create_spark()"
   ]
  },
  {
   "cell_type": "code",
   "execution_count": 16,
   "id": "fdd3fe4e-cf14-40e8-8103-32a0da90202f",
   "metadata": {},
   "outputs": [
    {
     "name": "stderr",
     "output_type": "stream",
     "text": [
      "                                                                                \r"
     ]
    }
   ],
   "source": [
    "spark.sql('''\n",
    "\n",
    "SELECT\n",
    "    MD5(CONCAT(CASE_CATEGORY_1, CASE_CATEGORY_2)) AS CASE_CATEGORY_ID,\n",
    "    CASE_CATEGORY_1 AS CASE_CATEGORY_1_NAME,\n",
    "    CASE_CATEGORY_2 AS CASE_CATEGORY_2_NAME,\n",
    "    FROM_UTC_TIMESTAMP(MIN(CASE_CREATED_AT), 'GMT+7') AS CREATED_AT,\n",
    "    FROM_UTC_TIMESTAMP(MAX(CASE_CREATED_AT), 'GMT+7') AS LAST_UPDATED_AT,\n",
    "    FROM_UTC_TIMESTAMP(NOW(), 'GMT+7') AS LAST_EXECUTED_AT\n",
    "FROM delta.`s3a://bronze/USER_RATING`\n",
    "GROUP BY CASE_CATEGORY_1, CASE_CATEGORY_2\n",
    "''').write.format('delta').mode('overwrite').save('s3a://silver/CASE_CATEGORY_DIM')"
   ]
  },
  {
   "cell_type": "code",
   "execution_count": 17,
   "id": "651c1083-3a00-439f-9e33-f0c2578b64cf",
   "metadata": {},
   "outputs": [],
   "source": [
    "spark.stop()"
   ]
  }
 ],
 "metadata": {
  "kernelspec": {
   "display_name": "Python 3 (ipykernel)",
   "language": "python",
   "name": "python3"
  },
  "language_info": {
   "codemirror_mode": {
    "name": "ipython",
    "version": 3
   },
   "file_extension": ".py",
   "mimetype": "text/x-python",
   "name": "python",
   "nbconvert_exporter": "python",
   "pygments_lexer": "ipython3",
   "version": "3.9.17"
  }
 },
 "nbformat": 4,
 "nbformat_minor": 5
}
